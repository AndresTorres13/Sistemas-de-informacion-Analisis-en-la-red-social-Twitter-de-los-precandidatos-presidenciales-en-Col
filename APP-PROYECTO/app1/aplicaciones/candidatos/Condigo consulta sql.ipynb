{
 "cells": [
  {
   "cell_type": "code",
   "execution_count": 8,
   "id": "40f89cc5-c151-4f52-bd2e-44d9048f4fa9",
   "metadata": {},
   "outputs": [
    {
     "name": "stdout",
     "output_type": "stream",
     "text": [
      "[('Gustavo Petro', '4459511'), ('Alejandro Char', '411577'), ('Federico Gutiérrez', '697474'), ('Juan Carlos Echeverry', '38943'), ('Luis Pérez Presidente', '75581'), ('Alejandro Gaviria', '395631'), ('Francia Márquez Mina', '112344'), ('Óscar Iván Zuluaga', '810224'), ('Ing Rodolfo Hernandez ', '110372'), ('Jorge Enrique Robledo', '1254509'), ('Sergio Fajardo', '1606354'), ('Enrique Peñalosa', '1958546'), ('John Milton Rodríguez', '38057'), ('Juan Manuel Galán', '238962'), ('Germán Vargas Lleras', '868789')]\n",
      "[[('Gustavo Petro', '4459511'), ('Alejandro Char', '411577'), ('Federico Gutiérrez', '697474'), ('Juan Carlos Echeverry', '38943'), ('Luis Pérez Presidente', '75581'), ('Alejandro Gaviria', '395631'), ('Francia Márquez Mina', '112344'), ('Óscar Iván Zuluaga', '810224'), ('Ing Rodolfo Hernandez ', '110372'), ('Jorge Enrique Robledo', '1254509'), ('Sergio Fajardo', '1606354'), ('Enrique Peñalosa', '1958546'), ('John Milton Rodríguez', '38057'), ('Juan Manuel Galán', '238962'), ('Germán Vargas Lleras', '868789')], [('Gustavo Petro', '4459511'), ('Alejandro Char', '411577'), ('Federico Gutiérrez', '697474'), ('Juan Carlos Echeverry', '38943'), ('Luis Pérez Presidente', '75581'), ('Alejandro Gaviria', '395631'), ('Francia Márquez Mina', '112344'), ('Óscar Iván Zuluaga', '810224'), ('Ing Rodolfo Hernandez ', '110372'), ('Jorge Enrique Robledo', '1254509'), ('Sergio Fajardo', '1606354'), ('Enrique Peñalosa', '1958546'), ('John Milton Rodríguez', '38057'), ('Juan Manuel Galán', '238962'), ('Germán Vargas Lleras', '868789')], [('Gustavo Petro', '4459511'), ('Alejandro Char', '411577'), ('Federico Gutiérrez', '697474'), ('Juan Carlos Echeverry', '38943'), ('Luis Pérez Presidente', '75581'), ('Alejandro Gaviria', '395631'), ('Francia Márquez Mina', '112344'), ('Óscar Iván Zuluaga', '810224'), ('Ing Rodolfo Hernandez ', '110372'), ('Jorge Enrique Robledo', '1254509'), ('Sergio Fajardo', '1606354'), ('Enrique Peñalosa', '1958546'), ('John Milton Rodríguez', '38057'), ('Juan Manuel Galán', '238962'), ('Germán Vargas Lleras', '868789')], [('Gustavo Petro', '4459511'), ('Alejandro Char', '411577'), ('Federico Gutiérrez', '697474'), ('Juan Carlos Echeverry', '38943'), ('Luis Pérez Presidente', '75581'), ('Alejandro Gaviria', '395631'), ('Francia Márquez Mina', '112344'), ('Óscar Iván Zuluaga', '810224'), ('Ing Rodolfo Hernandez ', '110372'), ('Jorge Enrique Robledo', '1254509'), ('Sergio Fajardo', '1606354'), ('Enrique Peñalosa', '1958546'), ('John Milton Rodríguez', '38057'), ('Juan Manuel Galán', '238962'), ('Germán Vargas Lleras', '868789')], [('Gustavo Petro', '4459511'), ('Alejandro Char', '411577'), ('Federico Gutiérrez', '697474'), ('Juan Carlos Echeverry', '38943'), ('Luis Pérez Presidente', '75581'), ('Alejandro Gaviria', '395631'), ('Francia Márquez Mina', '112344'), ('Óscar Iván Zuluaga', '810224'), ('Ing Rodolfo Hernandez ', '110372'), ('Jorge Enrique Robledo', '1254509'), ('Sergio Fajardo', '1606354'), ('Enrique Peñalosa', '1958546'), ('John Milton Rodríguez', '38057'), ('Juan Manuel Galán', '238962'), ('Germán Vargas Lleras', '868789')], [('Gustavo Petro', '4459511'), ('Alejandro Char', '411577'), ('Federico Gutiérrez', '697474'), ('Juan Carlos Echeverry', '38943'), ('Luis Pérez Presidente', '75581'), ('Alejandro Gaviria', '395631'), ('Francia Márquez Mina', '112344'), ('Óscar Iván Zuluaga', '810224'), ('Ing Rodolfo Hernandez ', '110372'), ('Jorge Enrique Robledo', '1254509'), ('Sergio Fajardo', '1606354'), ('Enrique Peñalosa', '1958546'), ('John Milton Rodríguez', '38057'), ('Juan Manuel Galán', '238962'), ('Germán Vargas Lleras', '868789')], [('Gustavo Petro', '4459511'), ('Alejandro Char', '411577'), ('Federico Gutiérrez', '697474'), ('Juan Carlos Echeverry', '38943'), ('Luis Pérez Presidente', '75581'), ('Alejandro Gaviria', '395631'), ('Francia Márquez Mina', '112344'), ('Óscar Iván Zuluaga', '810224'), ('Ing Rodolfo Hernandez ', '110372'), ('Jorge Enrique Robledo', '1254509'), ('Sergio Fajardo', '1606354'), ('Enrique Peñalosa', '1958546'), ('John Milton Rodríguez', '38057'), ('Juan Manuel Galán', '238962'), ('Germán Vargas Lleras', '868789')], [('Gustavo Petro', '4459511'), ('Alejandro Char', '411577'), ('Federico Gutiérrez', '697474'), ('Juan Carlos Echeverry', '38943'), ('Luis Pérez Presidente', '75581'), ('Alejandro Gaviria', '395631'), ('Francia Márquez Mina', '112344'), ('Óscar Iván Zuluaga', '810224'), ('Ing Rodolfo Hernandez ', '110372'), ('Jorge Enrique Robledo', '1254509'), ('Sergio Fajardo', '1606354'), ('Enrique Peñalosa', '1958546'), ('John Milton Rodríguez', '38057'), ('Juan Manuel Galán', '238962'), ('Germán Vargas Lleras', '868789')], [('Gustavo Petro', '4459511'), ('Alejandro Char', '411577'), ('Federico Gutiérrez', '697474'), ('Juan Carlos Echeverry', '38943'), ('Luis Pérez Presidente', '75581'), ('Alejandro Gaviria', '395631'), ('Francia Márquez Mina', '112344'), ('Óscar Iván Zuluaga', '810224'), ('Ing Rodolfo Hernandez ', '110372'), ('Jorge Enrique Robledo', '1254509'), ('Sergio Fajardo', '1606354'), ('Enrique Peñalosa', '1958546'), ('John Milton Rodríguez', '38057'), ('Juan Manuel Galán', '238962'), ('Germán Vargas Lleras', '868789')], [('Gustavo Petro', '4459511'), ('Alejandro Char', '411577'), ('Federico Gutiérrez', '697474'), ('Juan Carlos Echeverry', '38943'), ('Luis Pérez Presidente', '75581'), ('Alejandro Gaviria', '395631'), ('Francia Márquez Mina', '112344'), ('Óscar Iván Zuluaga', '810224'), ('Ing Rodolfo Hernandez ', '110372'), ('Jorge Enrique Robledo', '1254509'), ('Sergio Fajardo', '1606354'), ('Enrique Peñalosa', '1958546'), ('John Milton Rodríguez', '38057'), ('Juan Manuel Galán', '238962'), ('Germán Vargas Lleras', '868789')], [('Gustavo Petro', '4459511'), ('Alejandro Char', '411577'), ('Federico Gutiérrez', '697474'), ('Juan Carlos Echeverry', '38943'), ('Luis Pérez Presidente', '75581'), ('Alejandro Gaviria', '395631'), ('Francia Márquez Mina', '112344'), ('Óscar Iván Zuluaga', '810224'), ('Ing Rodolfo Hernandez ', '110372'), ('Jorge Enrique Robledo', '1254509'), ('Sergio Fajardo', '1606354'), ('Enrique Peñalosa', '1958546'), ('John Milton Rodríguez', '38057'), ('Juan Manuel Galán', '238962'), ('Germán Vargas Lleras', '868789')], [('Gustavo Petro', '4459511'), ('Alejandro Char', '411577'), ('Federico Gutiérrez', '697474'), ('Juan Carlos Echeverry', '38943'), ('Luis Pérez Presidente', '75581'), ('Alejandro Gaviria', '395631'), ('Francia Márquez Mina', '112344'), ('Óscar Iván Zuluaga', '810224'), ('Ing Rodolfo Hernandez ', '110372'), ('Jorge Enrique Robledo', '1254509'), ('Sergio Fajardo', '1606354'), ('Enrique Peñalosa', '1958546'), ('John Milton Rodríguez', '38057'), ('Juan Manuel Galán', '238962'), ('Germán Vargas Lleras', '868789')], [('Gustavo Petro', '4459511'), ('Alejandro Char', '411577'), ('Federico Gutiérrez', '697474'), ('Juan Carlos Echeverry', '38943'), ('Luis Pérez Presidente', '75581'), ('Alejandro Gaviria', '395631'), ('Francia Márquez Mina', '112344'), ('Óscar Iván Zuluaga', '810224'), ('Ing Rodolfo Hernandez ', '110372'), ('Jorge Enrique Robledo', '1254509'), ('Sergio Fajardo', '1606354'), ('Enrique Peñalosa', '1958546'), ('John Milton Rodríguez', '38057'), ('Juan Manuel Galán', '238962'), ('Germán Vargas Lleras', '868789')], [('Gustavo Petro', '4459511'), ('Alejandro Char', '411577'), ('Federico Gutiérrez', '697474'), ('Juan Carlos Echeverry', '38943'), ('Luis Pérez Presidente', '75581'), ('Alejandro Gaviria', '395631'), ('Francia Márquez Mina', '112344'), ('Óscar Iván Zuluaga', '810224'), ('Ing Rodolfo Hernandez ', '110372'), ('Jorge Enrique Robledo', '1254509'), ('Sergio Fajardo', '1606354'), ('Enrique Peñalosa', '1958546'), ('John Milton Rodríguez', '38057'), ('Juan Manuel Galán', '238962'), ('Germán Vargas Lleras', '868789')], [('Gustavo Petro', '4459511'), ('Alejandro Char', '411577'), ('Federico Gutiérrez', '697474'), ('Juan Carlos Echeverry', '38943'), ('Luis Pérez Presidente', '75581'), ('Alejandro Gaviria', '395631'), ('Francia Márquez Mina', '112344'), ('Óscar Iván Zuluaga', '810224'), ('Ing Rodolfo Hernandez ', '110372'), ('Jorge Enrique Robledo', '1254509'), ('Sergio Fajardo', '1606354'), ('Enrique Peñalosa', '1958546'), ('John Milton Rodríguez', '38057'), ('Juan Manuel Galán', '238962'), ('Germán Vargas Lleras', '868789')]]\n"
     ]
    }
   ],
   "source": [
    "import pymysql\n",
    "import mysql.connector\n",
    "import MySQLdb\n",
    "import json\n",
    "\n",
    "\n",
    "conexion1=mysql.connector.connect(host=\"localhost\",user=\"root\",port=\"3307\",password=\"4aneYUBuG1JgfHa\",database=\"prueba1\")\n",
    "\n",
    "cursor1 = conexion1.cursor()\n",
    "\n",
    "cursor1.execute('SELECT candidato, numero_seguidores FROM candidato')\n",
    "\n",
    "\n",
    "candidato = cursor1.fetchall()\n",
    "print(candidato)\n",
    "conexion1.close()"
   ]
  },
  {
   "cell_type": "code",
   "execution_count": null,
   "id": "c94e68c2-0fdd-416f-a38e-f2233bb2e353",
   "metadata": {},
   "outputs": [],
   "source": []
  }
 ],
 "metadata": {
  "kernelspec": {
   "display_name": "Python 3",
   "language": "python",
   "name": "python3"
  },
  "language_info": {
   "codemirror_mode": {
    "name": "ipython",
    "version": 3
   },
   "file_extension": ".py",
   "mimetype": "text/x-python",
   "name": "python",
   "nbconvert_exporter": "python",
   "pygments_lexer": "ipython3",
   "version": "3.8.8"
  }
 },
 "nbformat": 4,
 "nbformat_minor": 5
}
