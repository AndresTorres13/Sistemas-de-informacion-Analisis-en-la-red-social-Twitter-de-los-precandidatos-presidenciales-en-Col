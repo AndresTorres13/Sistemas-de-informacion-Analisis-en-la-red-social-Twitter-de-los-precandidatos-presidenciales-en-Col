{
 "cells": [
  {
   "cell_type": "code",
   "execution_count": 2,
   "id": "bca01e21-8d0f-4d65-b302-73f1fe43ecd3",
   "metadata": {},
   "outputs": [
    {
     "ename": "AttributeError",
     "evalue": "'ResultSet' object has no attribute '_json'",
     "output_type": "error",
     "traceback": [
      "\u001b[1;31m---------------------------------------------------------------------------\u001b[0m",
      "\u001b[1;31mAttributeError\u001b[0m                            Traceback (most recent call last)",
      "\u001b[1;32m<ipython-input-2-eba8720df74b>\u001b[0m in \u001b[0;36m<module>\u001b[1;34m\u001b[0m\n\u001b[0;32m     15\u001b[0m \u001b[1;31m#print(\"numero de seguidores\", user.followers_count)\u001b[0m\u001b[1;33m\u001b[0m\u001b[1;33m\u001b[0m\u001b[1;33m\u001b[0m\u001b[0m\n\u001b[0;32m     16\u001b[0m \u001b[1;31m#print(\"ID: \", user.id)\u001b[0m\u001b[1;33m\u001b[0m\u001b[1;33m\u001b[0m\u001b[1;33m\u001b[0m\u001b[0m\n\u001b[1;32m---> 17\u001b[1;33m \u001b[0mprint\u001b[0m\u001b[1;33m(\u001b[0m\u001b[0mjson\u001b[0m\u001b[1;33m.\u001b[0m\u001b[0mdumps\u001b[0m\u001b[1;33m(\u001b[0m\u001b[0muser\u001b[0m\u001b[1;33m.\u001b[0m\u001b[0m_json\u001b[0m\u001b[1;33m,\u001b[0m \u001b[0mindent\u001b[0m\u001b[1;33m=\u001b[0m\u001b[1;36m1\u001b[0m\u001b[1;33m)\u001b[0m\u001b[1;33m)\u001b[0m\u001b[1;33m\u001b[0m\u001b[1;33m\u001b[0m\u001b[0m\n\u001b[0m\u001b[0;32m     18\u001b[0m \u001b[1;33m\u001b[0m\u001b[0m\n\u001b[0;32m     19\u001b[0m \u001b[0mCandidato\u001b[0m\u001b[1;33m=\u001b[0m \u001b[0muser\u001b[0m\u001b[1;33m.\u001b[0m\u001b[0mname\u001b[0m\u001b[1;33m\u001b[0m\u001b[1;33m\u001b[0m\u001b[0m\n",
      "\u001b[1;31mAttributeError\u001b[0m: 'ResultSet' object has no attribute '_json'"
     ]
    }
   ],
   "source": [
    "import pymysql\n",
    "import tweepy\n",
    "import json\n",
    "import mysql.connector\n",
    "consumer_key= 'R5RdqdfKPUWgIdVzFCGOj5zxz'\n",
    "consumer_secret= '0i6vgh02OPJHVTrW22aI1ScpsSj7Y55qOG03vP8RDh4FxtHEW4'\n",
    "access_token= '1446921421465214977-lk60pjJEwpLcHuMD4fxaY7vBVoCFBu'\n",
    "access_token_secret= 'MtnDwltywCcQwedwJXCla1Z0DYdRV1oKfZXRk5N4QWba8'\n",
    "auth = tweepy.OAuthHandler(consumer_key, consumer_secret)\n",
    "auth.set_access_token(access_token, access_token_secret)\n",
    "api = tweepy.API(auth)\n",
    "user = api.get_user(screen_name= \"German_Vargas\")\n",
    "\n",
    "print(\"nombre de la persona\", user.screen_name)\n",
    "print(\"numero de seguidores\", user.followers_count)\n",
    "print(\"ID: \", user.id)\n",
    "print(json.dumps(user._json, indent=1))\n",
    "\n",
    "Candidato= user.name\n",
    "User_id= user.id\n",
    "Username= user.screen_name\n",
    "Numero_seguidores= user.followers_count\n",
    " \n",
    "\n",
    "conexion1=mysql.connector.connect(host=\"localhost\",user=\"root\",port=\"3307\",password=\"4aneYUBuG1JgfHa\",database=\"prueba1\")\n",
    "\n",
    "cursor1= conexion1.cursor()\n",
    "#cursor1.execute(\"show databases\")\n",
    "#for base in cursor1:\n",
    "    #print(base)    \n",
    "candidato=user.name\n",
    "user_id=user.id\n",
    "nombre_usuario=user.screen_name\n",
    "numero_seguidores=user.followers_count\n",
    "\n",
    "sql=\"insert into candidato(candidato, user_id, nombre_usuario , numero_seguidores) values (%s,%s,%s,%s)\"\n",
    "\n",
    "datos=(candidato, user_id, nombre_usuario, numero_seguidores)\n",
    "cursor1.execute(sql, datos)\n",
    "\n",
    "conexion1.commit()\n",
    "conexion1.close() \n",
    "\n",
    "\n",
    "\n",
    "\n",
    "\n",
    "\n"
   ]
  },
  {
   "cell_type": "code",
   "execution_count": null,
   "id": "0c338fae-503a-41fd-ad77-02513464f4a1",
   "metadata": {},
   "outputs": [],
   "source": [
    "pip install mysql"
   ]
  },
  {
   "cell_type": "code",
   "execution_count": null,
   "id": "ab9d8ca7-9264-4c6f-9a0a-86ee77da6003",
   "metadata": {},
   "outputs": [],
   "source": [
    "pip install tweepy"
   ]
  },
  {
   "cell_type": "code",
   "execution_count": null,
   "id": "099091c5-de0d-4777-aed7-e1488d88cf0c",
   "metadata": {},
   "outputs": [],
   "source": []
  }
 ],
 "metadata": {
  "kernelspec": {
   "display_name": "Python 3",
   "language": "python",
   "name": "python3"
  },
  "language_info": {
   "codemirror_mode": {
    "name": "ipython",
    "version": 3
   },
   "file_extension": ".py",
   "mimetype": "text/x-python",
   "name": "python",
   "nbconvert_exporter": "python",
   "pygments_lexer": "ipython3",
   "version": "3.8.8"
  }
 },
 "nbformat": 4,
 "nbformat_minor": 5
}
